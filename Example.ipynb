{
 "cells": [
  {
   "cell_type": "code",
   "execution_count": 1,
   "metadata": {},
   "outputs": [],
   "source": [
    "import cPickle as pickle\n",
    "import gzip\n",
    "import numpy as np\n",
    "import nnetwork as nn"
   ]
  },
  {
   "cell_type": "markdown",
   "metadata": {},
   "source": [
    "The mnist data set can, e.g., be found on this webpage:\n",
    "http://deeplearning.net/tutorial/gettingstarted.html\n",
    "Here, we just store the datafile in the dataset directory."
   ]
  },
  {
   "cell_type": "code",
   "execution_count": 2,
   "metadata": {},
   "outputs": [],
   "source": [
    "fp = './datasets/mnist.pkl.gz'\n",
    "with gzip.open(fp, 'rb') as f:\n",
    "    train_set, valid_set, test_set = pickle.load(f)"
   ]
  },
  {
   "cell_type": "markdown",
   "metadata": {},
   "source": [
    "We need to transform the target values into one hot encoding.\n",
    "For this we define a small helper function."
   ]
  },
  {
   "cell_type": "code",
   "execution_count": 3,
   "metadata": {},
   "outputs": [],
   "source": [
    "def one_hot_encoding(targets):\n",
    "    n_examples = targets.shape[0]\n",
    "    one_hot_targets = np.zeros((n_examples, 10))\n",
    "    idx = np.arange(n_examples)\n",
    "    one_hot_targets[idx, targets] = 1.\n",
    "    return one_hot_targets\n",
    "\n",
    "target_train = one_hot_encoding(train_set[1])\n",
    "target_valid = one_hot_encoding(valid_set[1])\n",
    "test_valid = one_hot_encoding(test_set[1])"
   ]
  },
  {
   "cell_type": "markdown",
   "metadata": {},
   "source": [
    "We are going to implement a very basic loop for hyper parameter tuning of the l2-regularisation.\n",
    "In each loop occurence, we create a neural network with a different l2 value and train until our train-criterion is broken. We stop training if the loss after one epoch is only marginally lower than the previous epoch's loss by the value of the precision variable, which we set in the fit function of the neural network. We then evaluate the accuracy on the validation set and chose the best l2 parameter based on this metric. (We could also use the loss on the validation set)\n",
    "\n",
    "To initialise the network, we also have to define the number of layers and their number of nodes. Note, that only DenseLayers are implemented here thus far. We go for a very basic network to test our implementation. We connect the input layer directly with the output layer.\n",
    "\n",
    "The parameters of the network are initialised randomly from a Gaussian distribution with mean = 0. and sigma = 0.5.\n",
    "\n",
    "Before training, we do mean subtraction on the data. (We need to take the transpose to match our notation here. The input vector needs the shape (n_features, n_examples)."
   ]
  },
  {
   "cell_type": "code",
   "execution_count": 4,
   "metadata": {},
   "outputs": [],
   "source": [
    "mean = np.mean(train_set[0], axis=0)\n",
    "x_train = (train_set[0] - mean).T\n",
    "x_valid = (valid_set[0] - mean).T\n",
    "x_test = (test_set[0] - mean).T"
   ]
  },
  {
   "cell_type": "code",
   "execution_count": 5,
   "metadata": {},
   "outputs": [
    {
     "name": "stdout",
     "output_type": "stream",
     "text": [
      "\n",
      "NEURAL NETWORK created!\n",
      "2 layers in total (including In- and Output-layer)\n",
      "1 parameter matrices\n",
      "\n",
      "0 1.2 16.725429711608854\n",
      "10 1.2 2.671846101435424\n",
      "20 1.2 1.766095572005696\n",
      "30 1.2 1.4600830873914332\n",
      "40 1.2 1.3014568377464524\n",
      "50 1.2 1.2024202124167436\n",
      "60 1.2 1.1337871998275162\n",
      "Final Cost: 1.1016339929932715\n",
      "final validation accuracy: 85.8\n",
      "\n",
      "NEURAL NETWORK created!\n",
      "2 layers in total (including In- and Output-layer)\n",
      "1 parameter matrices\n",
      "\n",
      "0 1.2 15.152282475275971\n",
      "10 1.2 2.620502120372509\n",
      "20 1.2 1.7489864952331369\n",
      "30 1.2 1.456645764689112\n",
      "40 1.2 1.3039962257359063\n",
      "50 1.2 1.2077457756605023\n",
      "60 1.2 1.1404189546883947\n",
      "Final Cost: 1.108666011691292\n",
      "final validation accuracy: 85.78\n",
      "\n",
      "NEURAL NETWORK created!\n",
      "2 layers in total (including In- and Output-layer)\n",
      "1 parameter matrices\n",
      "\n",
      "0 1.2 16.524092187516043\n",
      "10 1.2 2.687052534857849\n",
      "20 1.2 1.7919482691303896\n",
      "30 1.2 1.490592703839368\n",
      "40 1.2 1.3327939255476424\n",
      "50 1.2 1.2332068682435917\n",
      "60 1.2 1.1635654428268551\n",
      "Final Cost: 1.125770833429142\n",
      "final validation accuracy: 85.22\n"
     ]
    }
   ],
   "source": [
    "n_layers = np.array([784, 10])\n",
    "l2s = [0.01, 0.1, 1.]\n",
    "best_acc = 0.\n",
    "best_net = None\n",
    "for l2 in l2s:\n",
    "    net = nn.NeuralNet(n_layers, l2)\n",
    "    net.train(x_train, target_train.T, precision=0.005)\n",
    "    y_pred = net.predict(x_valid)\n",
    "    acc = 100 * np.mean(np.where(y_pred==valid_set[1], 1, 0))\n",
    "    print 'final validation accuracy: {}'.format(acc)\n",
    "    if acc >= best_acc:\n",
    "        best_net = net\n",
    "        best_acc = acc\n"
   ]
  },
  {
   "cell_type": "markdown",
   "metadata": {},
   "source": [
    "Now that we trained the networks and found the best value of the l2 parameter, we would like to evaluate the final accuracies, for the train, validation and test set.\n",
    "For this, we simply use the predict function of the neural network:"
   ]
  },
  {
   "cell_type": "code",
   "execution_count": 6,
   "metadata": {},
   "outputs": [
    {
     "name": "stdout",
     "output_type": "stream",
     "text": [
      "final train accuracy: 83.792\n"
     ]
    }
   ],
   "source": [
    "y_pred = best_net.predict(x_train)\n",
    "print 'final train accuracy: {}'.format(100 * np.mean(np.where(y_pred==train_set[1], 1, 0)))"
   ]
  },
  {
   "cell_type": "code",
   "execution_count": 7,
   "metadata": {},
   "outputs": [
    {
     "name": "stdout",
     "output_type": "stream",
     "text": [
      "final validation accuracy: 85.8\n"
     ]
    }
   ],
   "source": [
    "y_pred = best_net.predict(x_valid)\n",
    "print 'final validation accuracy: {}'.format(100 * np.mean(np.where(y_pred==valid_set[1], 1, 0)))"
   ]
  },
  {
   "cell_type": "code",
   "execution_count": 8,
   "metadata": {},
   "outputs": [
    {
     "name": "stdout",
     "output_type": "stream",
     "text": [
      "final test accuracy: 85.11\n"
     ]
    }
   ],
   "source": [
    "y_pred = best_net.predict(x_test)\n",
    "print 'final test accuracy: {}'.format(100 * np.mean(np.where(y_pred==test_set[1], 1, 0)))"
   ]
  },
  {
   "cell_type": "markdown",
   "metadata": {},
   "source": [
    "We see that we can get a decent accuracy of hand-written digits recognition with our implementation of neural networks. This confirms that our implementation is correct (including the backpropagation).\n",
    "\n",
    "It is surprising, that simply by connecting the input to the output Layer, we can get an accuray on the test set of 85%."
   ]
  }
 ],
 "metadata": {
  "kernelspec": {
   "display_name": "Python 2",
   "language": "python",
   "name": "python2"
  },
  "language_info": {
   "codemirror_mode": {
    "name": "ipython",
    "version": 2
   },
   "file_extension": ".py",
   "mimetype": "text/x-python",
   "name": "python",
   "nbconvert_exporter": "python",
   "pygments_lexer": "ipython2",
   "version": "2.7.12"
  }
 },
 "nbformat": 4,
 "nbformat_minor": 2
}
